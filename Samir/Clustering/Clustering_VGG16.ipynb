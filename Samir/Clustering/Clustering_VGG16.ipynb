{
 "cells": [
  {
   "cell_type": "code",
   "execution_count": 23,
   "id": "43c2bdec",
   "metadata": {},
   "outputs": [],
   "source": [
    "from keras.preprocessing import image\n",
    "from keras.applications.vgg16 import VGG16\n",
    "from keras.applications.vgg16 import preprocess_input\n",
    "import numpy as np\n",
    "import pandas as pd\n",
    "from sklearn.cluster import KMeans\n",
    "import os, shutil, glob, os.path\n",
    "from PIL import Image as pil_image\n",
    "image.LOAD_TRUNCATED_IMAGES = True \n",
    "model = VGG16(weights='imagenet', include_top=False)"
   ]
  },
  {
   "cell_type": "code",
   "execution_count": 24,
   "id": "0d6dd6dd",
   "metadata": {},
   "outputs": [],
   "source": [
    "# Variables\n",
    "imdir = 'D:/{Samir}/Personal/Education/ADA/{{Study}}/Thesis/Server/Bot_data_all/imagesMerge'\n",
    "targetdir = \"D:/{Samir}/Personal/Education/ADA/{{Study}}/Thesis/Server/Bot_data_all/labels/\"\n",
    "number_clusters = 32\n",
    "letters = ['A', 'B', 'C', 'Ç', 'D', 'E', 'Ə', 'F', 'G', 'Ğ', 'H', 'I', 'İ', 'J', 'K',\n",
    "           'L', 'M', 'N', 'O', 'Ö', 'P', 'Q', 'R', 'S', 'Ş', 'T', 'U', 'Ü', 'V', 'X', 'Y', 'Z', 'NA']\n",
    "labelsList = dict()\n",
    "\n",
    "# Loop over files and get features\n",
    "filelist = []\n",
    "\n",
    "for folder in os.listdir(imdir):\n",
    "    filelist.extend(glob.glob(os.path.join(imdir, folder, '*.jpg')))\n",
    "\n",
    "filelist.sort()\n",
    "featurelist = []\n",
    "for i, imagepath in enumerate(filelist):\n",
    "    print(\"    Status: %s / %s\" %(i, len(filelist)), end=\"/r\")\n",
    "    img = image.load_img(imagepath, target_size=(224, 224))\n",
    "    img_data = image.img_to_array(img)\n",
    "    img_data = np.expand_dims(img_data, axis=0)\n",
    "    img_data = preprocess_input(img_data)\n",
    "    features = np.array(model.predict(img_data))\n",
    "    featurelist.append(features.flatten())\n",
    "\n",
    "# Clustering\n",
    "kmeans = KMeans(n_clusters=number_clusters, random_state=0).fit(np.array(featurelist))\n",
    "\n",
    "try:\n",
    "    os.makedirs(targetdir)\n",
    "except OSError:\n",
    "    pass"
   ]
  },
  {
   "cell_type": "code",
   "execution_count": 25,
   "id": "558869ab",
   "metadata": {},
   "outputs": [],
   "source": [
    "def parseLetterFromPath(path):\n",
    "    replacedPath = path.replace(imdir, '')\n",
    "    letter = replacedPath.split('\\\\')[1]\n",
    "    return letter"
   ]
  },
  {
   "cell_type": "code",
   "execution_count": 27,
   "id": "b5921321",
   "metadata": {},
   "outputs": [],
   "source": [
    "for i, m in enumerate(kmeans.labels_):\n",
    "    letter = parseLetterFromPath(filelist[i])\n",
    "    if m in labelsList:\n",
    "        if letter in letters:\n",
    "            labelsList[m][letter] += 1\n",
    "        else:\n",
    "            labelsList[m]['NA'] += 1\n",
    "    else:\n",
    "        labelDict = dict(zip(letters, [0] * len(letters)))\n",
    "        if letter in letters:\n",
    "            labelDict[letter] = 1\n",
    "        else:\n",
    "            labelDict['NA'] = 1\n",
    "\n",
    "        labelsList[m] = labelDict\n",
    "\n",
    "# print(\"    Copy: %s / %s\" %(i, len(kmeans.labels_)), end=\"/r\")\n",
    "# shutil.copy(filelist[i], targetdir + str(m) + \"_\" + str(i) + \".jpg\")"
   ]
  },
  {
   "cell_type": "code",
   "execution_count": 29,
   "id": "eb034720",
   "metadata": {},
   "outputs": [],
   "source": [
    "stats = []\n",
    "labelNames = []\n",
    "for key, value in labelsList.items():\n",
    "    arr = []\n",
    "    for letter, count in value.items():\n",
    "        arr.append(count)\n",
    "    stats.append(arr)\n",
    "    labelNames.append(key)\n",
    "\n",
    "csv_file = f'result.csv'\n",
    "df = pd.DataFrame(stats, columns=letters, index=labelNames)\n",
    "df['Total'] = df.sum(axis=1)\n",
    "df.to_csv(csv_file, encoding='utf-8-sig')"
   ]
  }
 ],
 "metadata": {
  "interpreter": {
   "hash": "2db524e06e9f5f4ffedc911c917cb75e12dbc923643829bf417064a77eb14d37"
  },
  "kernelspec": {
   "display_name": "Python 3.8.5 64-bit",
   "name": "python3"
  },
  "language_info": {
   "codemirror_mode": {
    "name": "ipython",
    "version": 3
   },
   "file_extension": ".py",
   "mimetype": "text/x-python",
   "name": "python",
   "nbconvert_exporter": "python",
   "pygments_lexer": "ipython3",
   "version": "3.8.5"
  }
 },
 "nbformat": 4,
 "nbformat_minor": 5
}
