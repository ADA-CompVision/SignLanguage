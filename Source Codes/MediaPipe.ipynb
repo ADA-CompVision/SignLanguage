{
 "cells": [
  {
   "cell_type": "code",
   "execution_count": null,
   "metadata": {},
   "outputs": [],
   "source": [
    "import os\n",
    "import cv2\n",
    "import csv\n",
    "import PIL\n",
    "import numpy as np\n",
    "import pandas as pd\n",
    "from PIL import Image\n",
    "import mediapipe as mp"
   ]
  },
  {
   "cell_type": "code",
   "execution_count": null,
   "metadata": {},
   "outputs": [],
   "source": [
    "drawingModule = mp.solutions.drawing_utils\n",
    "handsModule = mp.solutions.hands\n",
    "mp_model = handsModule.Hands(static_image_mode = True)"
   ]
  },
  {
   "cell_type": "code",
   "execution_count": null,
   "metadata": {},
   "outputs": [],
   "source": [
    "def input_img(filePath, fileName):\n",
    "    \n",
    "    load_path = filePath + fileName\n",
    "    save_path = filePath + fileName\n",
    "    \n",
    "    return load_path, save_path"
   ]
  },
  {
   "cell_type": "code",
   "execution_count": null,
   "metadata": {},
   "outputs": [],
   "source": [
    "def mediapipe_detection(image, fileName, mp_model):\n",
    "    \n",
    "    results = mp_model.process(cv2.cvtColor(image, cv2.COLOR_BGR2RGB))\n",
    "    \n",
    "    if results.multi_hand_landmarks != None:\n",
    "        for handLandmarks in results.multi_hand_landmarks:\n",
    "            drawingModule.draw_landmarks(image, handLandmarks, handsModule.HAND_CONNECTIONS, \n",
    "                                         drawingModule.DrawingSpec(color=(121, 22, 76), thickness=2, circle_radius=4), \n",
    "                                         drawingModule.DrawingSpec(color=(0, 255, 0), thickness=2, circle_radius=2))\n",
    "    \n",
    "    img = Image.fromarray(cv2.cvtColor(image, cv2.COLOR_BGR2RGB))\n",
    "    \n",
    "    return img, results"
   ]
  },
  {
   "cell_type": "code",
   "execution_count": null,
   "metadata": {},
   "outputs": [],
   "source": [
    "def hand_detection(results):\n",
    "    \n",
    "    hand = 'none'\n",
    "\n",
    "    if len(results.multi_handedness) == 1:\n",
    "        if results.multi_handedness[0].classification[0].label == 'Left':\n",
    "            hand = 'left'\n",
    "        if results.multi_handedness[0].classification[0].label == 'Right':\n",
    "            hand = 'right'\n",
    "    else:\n",
    "        hand = 'both'\n",
    "\n",
    "    return hand"
   ]
  },
  {
   "cell_type": "code",
   "execution_count": null,
   "metadata": {},
   "outputs": [],
   "source": [
    "def extract_keypoints(results):\n",
    "    \n",
    "    kp_list = []\n",
    "    \n",
    "    for data_point in results.multi_hand_landmarks[0].landmark:\n",
    "        kp_list.append([data_point.x, data_point.y, data_point.z])\n",
    "    \n",
    "    keypoints = np.array(kp_list).flatten()\n",
    "    \n",
    "    return keypoints"
   ]
  },
  {
   "cell_type": "code",
   "execution_count": null,
   "metadata": {},
   "outputs": [],
   "source": [
    "def extract_keypoints_both(hand, results):\n",
    "    \n",
    "    kp_list = []\n",
    "    \n",
    "    if hand == 'right':\n",
    "        for i in range(0, 21):\n",
    "            kp_list.append([0, 0, 0])\n",
    "        \n",
    "        for data_point in results.multi_hand_landmarks[0].landmark:\n",
    "            kp_list.append([data_point.x, data_point.y, data_point.z])\n",
    "        \n",
    "    if hand == 'left':\n",
    "        for data_point in results.multi_hand_landmarks[0].landmark:\n",
    "            kp_list.append([data_point.x, data_point.y, data_point.z])\n",
    "        \n",
    "        for i in range(0, 21):\n",
    "            kp_list.append([0, 0, 0])\n",
    "    \n",
    "    if hand == 'both':\n",
    "        for data_point in results.multi_hand_landmarks[0].landmark:\n",
    "            kp_list.append([data_point.x, data_point.y, data_point.z])\n",
    "        \n",
    "        for data_point in results.multi_hand_landmarks[1].landmark:\n",
    "            kp_list.append([data_point.x, data_point.y, data_point.z])\n",
    "    \n",
    "    keypoints = np.array(kp_list).flatten()\n",
    "    \n",
    "    return keypoints"
   ]
  },
  {
   "cell_type": "code",
   "execution_count": null,
   "metadata": {},
   "outputs": [],
   "source": [
    "def create_csv(csv_file):\n",
    "    \n",
    "    columns = ['letter']\n",
    "    \n",
    "    for val in range(1, 22):\n",
    "        columns += ['x{}'.format(val), 'y{}'.format(val), 'z{}'.format(val)]\n",
    "    \n",
    "    with open(csv_file, mode='w', newline='') as f:\n",
    "        csv_writer = csv.writer(f, delimiter=',', quotechar='\"', quoting=csv.QUOTE_MINIMAL)\n",
    "        csv_writer.writerow(columns)"
   ]
  },
  {
   "cell_type": "code",
   "execution_count": null,
   "metadata": {},
   "outputs": [],
   "source": [
    "def write_csv(letter, keypoints, csv_file):\n",
    "    \n",
    "    temp = list(keypoints)\n",
    "    temp.insert(0, letter)\n",
    "    \n",
    "    with open(csv_file, mode='a', newline='') as f:\n",
    "        csv_writer = csv.writer(f, delimiter=',', quotechar='\"', quoting=csv.QUOTE_MINIMAL)\n",
    "        csv_writer.writerow(temp)"
   ]
  },
  {
   "cell_type": "code",
   "execution_count": null,
   "metadata": {},
   "outputs": [],
   "source": [
    "directory = 'MediaPipe'\n",
    "csv_file = 'features.csv'\n",
    "create_csv(csv_file)\n",
    "os.chdir(directory)\n",
    "list_dir = os.listdir()\n",
    "\n",
    "for label in list_dir:\n",
    "    os.chdir(label)\n",
    "    images = os.listdir()\n",
    "    os.chdir(\"..\")\n",
    "    os.chdir(\"..\")\n",
    "    for i in images:\n",
    "        load_path, save_path = input_img(directory + '/' + label + '/', i)\n",
    "        img, results = mediapipe_detection(load_path, mp_model)\n",
    "        try:\n",
    "            keypoints = extract_keypoints(results)\n",
    "            write_csv(label, keypoints, csv_file)\n",
    "            np.save(save_path, keypoints)\n",
    "        except:\n",
    "    \n",
    "    os.chdir(directory)\n",
    "\n",
    "os.chdir(\"..\")"
   ]
  }
 ],
 "metadata": {
  "kernelspec": {
   "display_name": "Python 3 (ipykernel)",
   "language": "python",
   "name": "python3"
  },
  "language_info": {
   "codemirror_mode": {
    "name": "ipython",
    "version": 3
   },
   "file_extension": ".py",
   "mimetype": "text/x-python",
   "name": "python",
   "nbconvert_exporter": "python",
   "pygments_lexer": "ipython3",
   "version": "3.9.12"
  }
 },
 "nbformat": 4,
 "nbformat_minor": 2
}
