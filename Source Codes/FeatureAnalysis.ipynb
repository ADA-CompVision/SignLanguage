{
  "nbformat": 4,
  "nbformat_minor": 0,
  "metadata": {
    "colab": {
      "name": "SignLanguage.ipynb",
      "provenance": [],
      "collapsed_sections": []
    },
    "kernelspec": {
      "name": "python3",
      "display_name": "Python 3"
    },
    "language_info": {
      "name": "python"
    }
  },
  "cells": [
    {
      "cell_type": "code",
      "source": [
        "#from google.colab import drive\n",
        "#drive.mount('/content/drive')"
      ],
      "metadata": {
        "id": "XH36bkJn_LZp"
      },
      "execution_count": null,
      "outputs": []
    },
    {
      "cell_type": "code",
      "source": [
        "import pandas as pd\n",
        "import numpy as np\n",
        "import matplotlib.pyplot as plt"
      ],
      "metadata": {
        "id": "elx5veWerUtD"
      },
      "execution_count": null,
      "outputs": []
    },
    {
      "cell_type": "code",
      "source": [
        "feat_index = 0\n",
        "includeFlipped = False"
      ],
      "metadata": {
        "id": "g8cf4DN9bhbq"
      },
      "execution_count": null,
      "outputs": []
    },
    {
      "cell_type": "markdown",
      "source": [
        ""
      ],
      "metadata": {
        "id": "xkm3hLg3bcKU"
      }
    },
    {
      "cell_type": "code",
      "source": [
        "feat_files = ['inception','mediapipe','vgg16']\n",
        "feat_size = [2048,126,1000]\n",
        "\n",
        "print(feat_files[feat_index], 'is being used')\n",
        "\n",
        "data_file = '/content/drive/MyDrive/Colab Notebooks/SL_features/'+feat_files[feat_index]+'.csv'\n",
        "\n",
        "converter={'Features': lambda x: np.fromstring(str(x).\n",
        "                                               replace('[','').replace(']',''), \n",
        "                                               sep=',')[:feat_size[feat_index]]\n",
        "           .reshape((feat_size[feat_index],1))}\n",
        "\n",
        "mp_data = pd.read_csv(data_file, converters = converter)"
      ],
      "metadata": {
        "id": "kiV2bGAf_jIZ",
        "colab": {
          "base_uri": "https://localhost:8080/"
        },
        "outputId": "78ded039-5b1e-4ecc-f6e4-3da5d81baff6"
      },
      "execution_count": null,
      "outputs": [
        {
          "output_type": "stream",
          "name": "stdout",
          "text": [
            "mediapipe is being used\n"
          ]
        }
      ]
    },
    {
      "cell_type": "code",
      "source": [
        "mp_data.head(5)"
      ],
      "metadata": {
        "colab": {
          "base_uri": "https://localhost:8080/",
          "height": 204
        },
        "id": "pMuA22wGqGBW",
        "outputId": "861c170f-1a92-40af-c1f1-701c7e837d89"
      },
      "execution_count": null,
      "outputs": [
        {
          "output_type": "execute_result",
          "data": {
            "text/plain": [
              "   n   Filepath  Flipped  Model  Field_len  \\\n",
              "0  1  \\A\\A1.jpg        0      1        126   \n",
              "1  2  \\A\\A1.jpg        1      1        126   \n",
              "2  3  \\A\\A2.jpg        0      1        126   \n",
              "3  4  \\A\\A2.jpg        1      1        126   \n",
              "4  5  \\A\\A3.jpg        0      1        126   \n",
              "\n",
              "                                            Features  \n",
              "0  [[0.0], [0.0], [0.0], [0.0], [0.0], [0.0], [0....  \n",
              "1  [[0.5083845257759094], [0.5018740892410278], [...  \n",
              "2  [[0.4831370711326599], [0.55935138463974], [-1...  \n",
              "3  [[0.0], [0.0], [0.0], [0.0], [0.0], [0.0], [0....  \n",
              "4  [[0.0], [0.0], [0.0], [0.0], [0.0], [0.0], [0....  "
            ],
            "text/html": [
              "\n",
              "  <div id=\"df-b9d922c0-1221-48ac-9e81-9132ffeea4c9\">\n",
              "    <div class=\"colab-df-container\">\n",
              "      <div>\n",
              "<style scoped>\n",
              "    .dataframe tbody tr th:only-of-type {\n",
              "        vertical-align: middle;\n",
              "    }\n",
              "\n",
              "    .dataframe tbody tr th {\n",
              "        vertical-align: top;\n",
              "    }\n",
              "\n",
              "    .dataframe thead th {\n",
              "        text-align: right;\n",
              "    }\n",
              "</style>\n",
              "<table border=\"1\" class=\"dataframe\">\n",
              "  <thead>\n",
              "    <tr style=\"text-align: right;\">\n",
              "      <th></th>\n",
              "      <th>n</th>\n",
              "      <th>Filepath</th>\n",
              "      <th>Flipped</th>\n",
              "      <th>Model</th>\n",
              "      <th>Field_len</th>\n",
              "      <th>Features</th>\n",
              "    </tr>\n",
              "  </thead>\n",
              "  <tbody>\n",
              "    <tr>\n",
              "      <th>0</th>\n",
              "      <td>1</td>\n",
              "      <td>\\A\\A1.jpg</td>\n",
              "      <td>0</td>\n",
              "      <td>1</td>\n",
              "      <td>126</td>\n",
              "      <td>[[0.0], [0.0], [0.0], [0.0], [0.0], [0.0], [0....</td>\n",
              "    </tr>\n",
              "    <tr>\n",
              "      <th>1</th>\n",
              "      <td>2</td>\n",
              "      <td>\\A\\A1.jpg</td>\n",
              "      <td>1</td>\n",
              "      <td>1</td>\n",
              "      <td>126</td>\n",
              "      <td>[[0.5083845257759094], [0.5018740892410278], [...</td>\n",
              "    </tr>\n",
              "    <tr>\n",
              "      <th>2</th>\n",
              "      <td>3</td>\n",
              "      <td>\\A\\A2.jpg</td>\n",
              "      <td>0</td>\n",
              "      <td>1</td>\n",
              "      <td>126</td>\n",
              "      <td>[[0.4831370711326599], [0.55935138463974], [-1...</td>\n",
              "    </tr>\n",
              "    <tr>\n",
              "      <th>3</th>\n",
              "      <td>4</td>\n",
              "      <td>\\A\\A2.jpg</td>\n",
              "      <td>1</td>\n",
              "      <td>1</td>\n",
              "      <td>126</td>\n",
              "      <td>[[0.0], [0.0], [0.0], [0.0], [0.0], [0.0], [0....</td>\n",
              "    </tr>\n",
              "    <tr>\n",
              "      <th>4</th>\n",
              "      <td>5</td>\n",
              "      <td>\\A\\A3.jpg</td>\n",
              "      <td>0</td>\n",
              "      <td>1</td>\n",
              "      <td>126</td>\n",
              "      <td>[[0.0], [0.0], [0.0], [0.0], [0.0], [0.0], [0....</td>\n",
              "    </tr>\n",
              "  </tbody>\n",
              "</table>\n",
              "</div>\n",
              "      <button class=\"colab-df-convert\" onclick=\"convertToInteractive('df-b9d922c0-1221-48ac-9e81-9132ffeea4c9')\"\n",
              "              title=\"Convert this dataframe to an interactive table.\"\n",
              "              style=\"display:none;\">\n",
              "        \n",
              "  <svg xmlns=\"http://www.w3.org/2000/svg\" height=\"24px\"viewBox=\"0 0 24 24\"\n",
              "       width=\"24px\">\n",
              "    <path d=\"M0 0h24v24H0V0z\" fill=\"none\"/>\n",
              "    <path d=\"M18.56 5.44l.94 2.06.94-2.06 2.06-.94-2.06-.94-.94-2.06-.94 2.06-2.06.94zm-11 1L8.5 8.5l.94-2.06 2.06-.94-2.06-.94L8.5 2.5l-.94 2.06-2.06.94zm10 10l.94 2.06.94-2.06 2.06-.94-2.06-.94-.94-2.06-.94 2.06-2.06.94z\"/><path d=\"M17.41 7.96l-1.37-1.37c-.4-.4-.92-.59-1.43-.59-.52 0-1.04.2-1.43.59L10.3 9.45l-7.72 7.72c-.78.78-.78 2.05 0 2.83L4 21.41c.39.39.9.59 1.41.59.51 0 1.02-.2 1.41-.59l7.78-7.78 2.81-2.81c.8-.78.8-2.07 0-2.86zM5.41 20L4 18.59l7.72-7.72 1.47 1.35L5.41 20z\"/>\n",
              "  </svg>\n",
              "      </button>\n",
              "      \n",
              "  <style>\n",
              "    .colab-df-container {\n",
              "      display:flex;\n",
              "      flex-wrap:wrap;\n",
              "      gap: 12px;\n",
              "    }\n",
              "\n",
              "    .colab-df-convert {\n",
              "      background-color: #E8F0FE;\n",
              "      border: none;\n",
              "      border-radius: 50%;\n",
              "      cursor: pointer;\n",
              "      display: none;\n",
              "      fill: #1967D2;\n",
              "      height: 32px;\n",
              "      padding: 0 0 0 0;\n",
              "      width: 32px;\n",
              "    }\n",
              "\n",
              "    .colab-df-convert:hover {\n",
              "      background-color: #E2EBFA;\n",
              "      box-shadow: 0px 1px 2px rgba(60, 64, 67, 0.3), 0px 1px 3px 1px rgba(60, 64, 67, 0.15);\n",
              "      fill: #174EA6;\n",
              "    }\n",
              "\n",
              "    [theme=dark] .colab-df-convert {\n",
              "      background-color: #3B4455;\n",
              "      fill: #D2E3FC;\n",
              "    }\n",
              "\n",
              "    [theme=dark] .colab-df-convert:hover {\n",
              "      background-color: #434B5C;\n",
              "      box-shadow: 0px 1px 3px 1px rgba(0, 0, 0, 0.15);\n",
              "      filter: drop-shadow(0px 1px 2px rgba(0, 0, 0, 0.3));\n",
              "      fill: #FFFFFF;\n",
              "    }\n",
              "  </style>\n",
              "\n",
              "      <script>\n",
              "        const buttonEl =\n",
              "          document.querySelector('#df-b9d922c0-1221-48ac-9e81-9132ffeea4c9 button.colab-df-convert');\n",
              "        buttonEl.style.display =\n",
              "          google.colab.kernel.accessAllowed ? 'block' : 'none';\n",
              "\n",
              "        async function convertToInteractive(key) {\n",
              "          const element = document.querySelector('#df-b9d922c0-1221-48ac-9e81-9132ffeea4c9');\n",
              "          const dataTable =\n",
              "            await google.colab.kernel.invokeFunction('convertToInteractive',\n",
              "                                                     [key], {});\n",
              "          if (!dataTable) return;\n",
              "\n",
              "          const docLinkHtml = 'Like what you see? Visit the ' +\n",
              "            '<a target=\"_blank\" href=https://colab.research.google.com/notebooks/data_table.ipynb>data table notebook</a>'\n",
              "            + ' to learn more about interactive tables.';\n",
              "          element.innerHTML = '';\n",
              "          dataTable['output_type'] = 'display_data';\n",
              "          await google.colab.output.renderOutput(dataTable, element);\n",
              "          const docLink = document.createElement('div');\n",
              "          docLink.innerHTML = docLinkHtml;\n",
              "          element.appendChild(docLink);\n",
              "        }\n",
              "      </script>\n",
              "    </div>\n",
              "  </div>\n",
              "  "
            ]
          },
          "metadata": {},
          "execution_count": 90
        }
      ]
    },
    {
      "cell_type": "code",
      "source": [
        "letters = mp_data['Filepath'].str[:3].unique()\n",
        "letters = list(map(lambda x: x.replace('\\\\',''),letters))\n",
        "letters\n",
        "ltr_dict = { k:v for v, k in enumerate(letters,1)}\n",
        "ltr_dict\n",
        "#alternative\n",
        "#dict(zip(letters,range(len(letters))))"
      ],
      "metadata": {
        "colab": {
          "base_uri": "https://localhost:8080/"
        },
        "id": "uesmcBwydBLR",
        "outputId": "d6404fa8-e321-4534-e8a2-2e9d0ca91152"
      },
      "execution_count": null,
      "outputs": [
        {
          "output_type": "execute_result",
          "data": {
            "text/plain": [
              "{'A': 1,\n",
              " 'B': 2,\n",
              " 'C': 3,\n",
              " 'E': 4,\n",
              " 'EE': 5,\n",
              " 'F': 6,\n",
              " 'GH': 7,\n",
              " 'H': 8,\n",
              " 'I': 9,\n",
              " 'II': 10,\n",
              " 'J': 11,\n",
              " 'L': 12,\n",
              " 'M': 13,\n",
              " 'N': 14,\n",
              " 'O': 15,\n",
              " 'P': 16,\n",
              " 'Q': 17,\n",
              " 'R': 18,\n",
              " 'S': 19,\n",
              " 'SH': 20,\n",
              " 'T': 21}"
            ]
          },
          "metadata": {},
          "execution_count": 91
        }
      ]
    },
    {
      "cell_type": "code",
      "source": [
        "feat_data = np.stack(mp_data.Features.to_numpy()) # without np.stack() it will be array of arrays, not 2d array\n",
        "feat_mn = feat_data.min()\n",
        "feat_mx = feat_data.max()\n",
        "print('Min:',feat_mn,'Max:',feat_mx)"
      ],
      "metadata": {
        "colab": {
          "base_uri": "https://localhost:8080/"
        },
        "id": "KDWYFgzEtkON",
        "outputId": "2d547683-9f75-49fc-c2e6-4657fef765fb"
      },
      "execution_count": null,
      "outputs": [
        {
          "output_type": "stream",
          "name": "stdout",
          "text": [
            "Min: -1.1980257034301758 Max: 1.180842399597168\n"
          ]
        }
      ]
    },
    {
      "cell_type": "code",
      "source": [
        "x = mp_data.loc[mp_data['Filepath'].str.startswith('\\B') & (mp_data['Flipped']==0)]\n",
        "x.head()"
      ],
      "metadata": {
        "colab": {
          "base_uri": "https://localhost:8080/",
          "height": 204
        },
        "id": "jb7RUNL9bHoB",
        "outputId": "84b9c5cd-0680-42b7-d028-b99650685195"
      },
      "execution_count": null,
      "outputs": [
        {
          "output_type": "execute_result",
          "data": {
            "text/plain": [
              "         n   Filepath  Flipped  Model  Field_len  \\\n",
              "1484  1485  \\B\\B1.jpg        0      1        126   \n",
              "1486  1487  \\B\\B2.jpg        0      1        126   \n",
              "1488  1489  \\B\\B3.jpg        0      1        126   \n",
              "1490  1491  \\B\\B4.jpg        0      1        126   \n",
              "1492  1493  \\B\\B5.jpg        0      1        126   \n",
              "\n",
              "                                               Features  \n",
              "1484  [[0.0], [0.0], [0.0], [0.0], [0.0], [0.0], [0....  \n",
              "1486  [[0.46263423562049866], [0.8022677898406982], ...  \n",
              "1488  [[0.0], [0.0], [0.0], [0.0], [0.0], [0.0], [0....  \n",
              "1490  [[0.428175687789917], [0.8183003664016724], [3...  \n",
              "1492  [[0.6564767360687256], [0.73099285364151], [4....  "
            ],
            "text/html": [
              "\n",
              "  <div id=\"df-d8bc54b8-b950-4883-9ea7-90c85d0a2e07\">\n",
              "    <div class=\"colab-df-container\">\n",
              "      <div>\n",
              "<style scoped>\n",
              "    .dataframe tbody tr th:only-of-type {\n",
              "        vertical-align: middle;\n",
              "    }\n",
              "\n",
              "    .dataframe tbody tr th {\n",
              "        vertical-align: top;\n",
              "    }\n",
              "\n",
              "    .dataframe thead th {\n",
              "        text-align: right;\n",
              "    }\n",
              "</style>\n",
              "<table border=\"1\" class=\"dataframe\">\n",
              "  <thead>\n",
              "    <tr style=\"text-align: right;\">\n",
              "      <th></th>\n",
              "      <th>n</th>\n",
              "      <th>Filepath</th>\n",
              "      <th>Flipped</th>\n",
              "      <th>Model</th>\n",
              "      <th>Field_len</th>\n",
              "      <th>Features</th>\n",
              "    </tr>\n",
              "  </thead>\n",
              "  <tbody>\n",
              "    <tr>\n",
              "      <th>1484</th>\n",
              "      <td>1485</td>\n",
              "      <td>\\B\\B1.jpg</td>\n",
              "      <td>0</td>\n",
              "      <td>1</td>\n",
              "      <td>126</td>\n",
              "      <td>[[0.0], [0.0], [0.0], [0.0], [0.0], [0.0], [0....</td>\n",
              "    </tr>\n",
              "    <tr>\n",
              "      <th>1486</th>\n",
              "      <td>1487</td>\n",
              "      <td>\\B\\B2.jpg</td>\n",
              "      <td>0</td>\n",
              "      <td>1</td>\n",
              "      <td>126</td>\n",
              "      <td>[[0.46263423562049866], [0.8022677898406982], ...</td>\n",
              "    </tr>\n",
              "    <tr>\n",
              "      <th>1488</th>\n",
              "      <td>1489</td>\n",
              "      <td>\\B\\B3.jpg</td>\n",
              "      <td>0</td>\n",
              "      <td>1</td>\n",
              "      <td>126</td>\n",
              "      <td>[[0.0], [0.0], [0.0], [0.0], [0.0], [0.0], [0....</td>\n",
              "    </tr>\n",
              "    <tr>\n",
              "      <th>1490</th>\n",
              "      <td>1491</td>\n",
              "      <td>\\B\\B4.jpg</td>\n",
              "      <td>0</td>\n",
              "      <td>1</td>\n",
              "      <td>126</td>\n",
              "      <td>[[0.428175687789917], [0.8183003664016724], [3...</td>\n",
              "    </tr>\n",
              "    <tr>\n",
              "      <th>1492</th>\n",
              "      <td>1493</td>\n",
              "      <td>\\B\\B5.jpg</td>\n",
              "      <td>0</td>\n",
              "      <td>1</td>\n",
              "      <td>126</td>\n",
              "      <td>[[0.6564767360687256], [0.73099285364151], [4....</td>\n",
              "    </tr>\n",
              "  </tbody>\n",
              "</table>\n",
              "</div>\n",
              "      <button class=\"colab-df-convert\" onclick=\"convertToInteractive('df-d8bc54b8-b950-4883-9ea7-90c85d0a2e07')\"\n",
              "              title=\"Convert this dataframe to an interactive table.\"\n",
              "              style=\"display:none;\">\n",
              "        \n",
              "  <svg xmlns=\"http://www.w3.org/2000/svg\" height=\"24px\"viewBox=\"0 0 24 24\"\n",
              "       width=\"24px\">\n",
              "    <path d=\"M0 0h24v24H0V0z\" fill=\"none\"/>\n",
              "    <path d=\"M18.56 5.44l.94 2.06.94-2.06 2.06-.94-2.06-.94-.94-2.06-.94 2.06-2.06.94zm-11 1L8.5 8.5l.94-2.06 2.06-.94-2.06-.94L8.5 2.5l-.94 2.06-2.06.94zm10 10l.94 2.06.94-2.06 2.06-.94-2.06-.94-.94-2.06-.94 2.06-2.06.94z\"/><path d=\"M17.41 7.96l-1.37-1.37c-.4-.4-.92-.59-1.43-.59-.52 0-1.04.2-1.43.59L10.3 9.45l-7.72 7.72c-.78.78-.78 2.05 0 2.83L4 21.41c.39.39.9.59 1.41.59.51 0 1.02-.2 1.41-.59l7.78-7.78 2.81-2.81c.8-.78.8-2.07 0-2.86zM5.41 20L4 18.59l7.72-7.72 1.47 1.35L5.41 20z\"/>\n",
              "  </svg>\n",
              "      </button>\n",
              "      \n",
              "  <style>\n",
              "    .colab-df-container {\n",
              "      display:flex;\n",
              "      flex-wrap:wrap;\n",
              "      gap: 12px;\n",
              "    }\n",
              "\n",
              "    .colab-df-convert {\n",
              "      background-color: #E8F0FE;\n",
              "      border: none;\n",
              "      border-radius: 50%;\n",
              "      cursor: pointer;\n",
              "      display: none;\n",
              "      fill: #1967D2;\n",
              "      height: 32px;\n",
              "      padding: 0 0 0 0;\n",
              "      width: 32px;\n",
              "    }\n",
              "\n",
              "    .colab-df-convert:hover {\n",
              "      background-color: #E2EBFA;\n",
              "      box-shadow: 0px 1px 2px rgba(60, 64, 67, 0.3), 0px 1px 3px 1px rgba(60, 64, 67, 0.15);\n",
              "      fill: #174EA6;\n",
              "    }\n",
              "\n",
              "    [theme=dark] .colab-df-convert {\n",
              "      background-color: #3B4455;\n",
              "      fill: #D2E3FC;\n",
              "    }\n",
              "\n",
              "    [theme=dark] .colab-df-convert:hover {\n",
              "      background-color: #434B5C;\n",
              "      box-shadow: 0px 1px 3px 1px rgba(0, 0, 0, 0.15);\n",
              "      filter: drop-shadow(0px 1px 2px rgba(0, 0, 0, 0.3));\n",
              "      fill: #FFFFFF;\n",
              "    }\n",
              "  </style>\n",
              "\n",
              "      <script>\n",
              "        const buttonEl =\n",
              "          document.querySelector('#df-d8bc54b8-b950-4883-9ea7-90c85d0a2e07 button.colab-df-convert');\n",
              "        buttonEl.style.display =\n",
              "          google.colab.kernel.accessAllowed ? 'block' : 'none';\n",
              "\n",
              "        async function convertToInteractive(key) {\n",
              "          const element = document.querySelector('#df-d8bc54b8-b950-4883-9ea7-90c85d0a2e07');\n",
              "          const dataTable =\n",
              "            await google.colab.kernel.invokeFunction('convertToInteractive',\n",
              "                                                     [key], {});\n",
              "          if (!dataTable) return;\n",
              "\n",
              "          const docLinkHtml = 'Like what you see? Visit the ' +\n",
              "            '<a target=\"_blank\" href=https://colab.research.google.com/notebooks/data_table.ipynb>data table notebook</a>'\n",
              "            + ' to learn more about interactive tables.';\n",
              "          element.innerHTML = '';\n",
              "          dataTable['output_type'] = 'display_data';\n",
              "          await google.colab.output.renderOutput(dataTable, element);\n",
              "          const docLink = document.createElement('div');\n",
              "          docLink.innerHTML = docLinkHtml;\n",
              "          element.appendChild(docLink);\n",
              "        }\n",
              "      </script>\n",
              "    </div>\n",
              "  </div>\n",
              "  "
            ]
          },
          "metadata": {},
          "execution_count": 93
        }
      ]
    },
    {
      "cell_type": "code",
      "source": [
        "# To calculate Fisher Score\n",
        "#   n_j    - number of samples in class j\n",
        "#   mu_i   - mean value of feature f_i\n",
        "#   mu_ij  - mean value of feature f_i in class j\n",
        "#   var_ij - variance of feature f_i for samples in class j\n",
        "\n",
        "# 1. Keep only [class, features]                                                       \\A\\A from fname   \\A\\A -> AA    use ID instead\n",
        "cls_feat_data = mp_data[mp_data['Flipped']==0][['Filepath','Features']].apply(lambda x: x.str[:3].str.replace('\\\\','').map(ltr_dict) if x.name=='Filepath' else x)\n",
        "cls_feat_data.head(5)\n",
        "\n",
        "# 2. Calculate all mu\n",
        "feats = np.squeeze(np.stack(cls_feat_data['Features'].to_numpy()),axis=2)\n",
        "mu_all = np.mean(feats,0)"
      ],
      "metadata": {
        "colab": {
          "base_uri": "https://localhost:8080/"
        },
        "id": "JoJs8Yuykcgk",
        "outputId": "e7e27ceb-ca82-4936-ec2a-7098e8bbb4bc"
      },
      "execution_count": null,
      "outputs": [
        {
          "output_type": "stream",
          "name": "stderr",
          "text": [
            "/usr/local/lib/python3.7/dist-packages/ipykernel_launcher.py:8: FutureWarning: The default value of regex will change from True to False in a future version. In addition, single character regular expressions will *not* be treated as literal strings when regex=True.\n",
            "  \n"
          ]
        }
      ]
    },
    {
      "cell_type": "code",
      "source": [
        "# 3. Calculate mu and variance per class and formula\n",
        "numer = np.zeros((feat_size[feat_index]),np.float32)\n",
        "denom = np.zeros((feat_size[feat_index]),np.float32)\n",
        "\n",
        "for v in ltr_dict.values():\n",
        "  per_class = cls_feat_data[cls_feat_data['Filepath']==v]\n",
        "  feats = np.squeeze(np.stack(per_class['Features'].to_numpy()),axis=2)\n",
        "  feats = (feats - feat_mn) / (feat_mx-feat_mn)\n",
        "  mu_i  = np.mean(feats,0)\n",
        "  var_i = np.var(feats,0)\n",
        "  n_j = feats.shape[0]\n",
        "  \n",
        "  numer = numer + n_j * np.power((mu_i - mu_all),2)\n",
        "  denom = denom + n_j * var_i\n",
        "\n",
        "Fisher_Score = numer/denom\n",
        "\n",
        "# outliers are the ones outside the +3 sigma\n",
        "outlier_idx = Fisher_Score> (np.mean(Fisher_Score)+3*np.std(Fisher_Score))\n",
        "print('Outliers',np.sum(outlier_idx),':',Fisher_Score[outlier_idx])\n",
        "figure, axis = plt.subplots(1, 2,gridspec_kw={'width_ratios': [1, 4]})\n",
        "\n",
        "axis[0].boxplot(Fisher_Score,showfliers = False)\n",
        "#axis[0].set_title(feat_files[feat_index]+\" box & whisker\")\n",
        "\n",
        "# Draw only non-outliers\n",
        "axis[1].bar(range(feat_size[feat_index]-np.sum(outlier_idx)),Fisher_Score[np.invert(outlier_idx)])\n",
        "#axis[1].set_title(feat_files[feat_index]+\" bar\")\n",
        "\n",
        "plt.subplots_adjust(left=0.1,\n",
        "                    bottom=0.1, \n",
        "                    right=0.9, \n",
        "                    top=0.9, \n",
        "                    wspace=0.4, \n",
        "                    hspace=0.4)\n",
        "plt.show()"
      ],
      "metadata": {
        "colab": {
          "base_uri": "https://localhost:8080/",
          "height": 312
        },
        "id": "faj-dPgtZdzd",
        "outputId": "6f7c3547-04f3-4a60-85a7-468220d6018b"
      },
      "execution_count": null,
      "outputs": [
        {
          "output_type": "stream",
          "name": "stdout",
          "text": [
            "Outliers 5 : [3.23184352e+12 5.48489216e+02 3.24960546e+12 7.89020649e+02\n",
            " 3.54986360e+02]\n"
          ]
        },
        {
          "output_type": "display_data",
          "data": {
            "text/plain": [
              "<Figure size 432x288 with 2 Axes>"
            ],
            "image/png": "[encoded data removed]"
          },
          "metadata": {
            "needs_background": "light"
          }
        }
      ]
    },
    {
      "cell_type": "code",
      "source": [
        "# To calculate Feature Discernibility\n",
        "all_vr = np.zeros((0,feat_size[feat_index]),np.float32)\n",
        "\n",
        "# considering 21 letters only - for some reason mediapipe contains 21, inception 24 letters\n",
        "for ltr in letters[:21]: \n",
        "  x = mp_data.loc[mp_data['Filepath'].str.startswith(ltr) & (includeFlipped or mp_data['Flipped']==0)].Features\n",
        "  x = (x - feat_mn) / (feat_mx-feat_mn)\n",
        "  vr = np.var(x.to_numpy(),0)\n",
        "  vr = np.expand_dims(vr.flatten(), axis=0)\n",
        "  all_vr = np.append(all_vr,vr,axis=0)\n",
        "\n",
        "# If a 2D array, a boxplot is drawn for each column \n",
        "# showfliers - to show or hide outliers\n",
        "plt.boxplot(all_vr.transpose(), showfliers = False); # ; is used to eliminate verbose"
      ],
      "metadata": {
        "colab": {
          "base_uri": "https://localhost:8080/",
          "height": 443
        },
        "id": "hxtDeTJAD2bW",
        "outputId": "2f21504a-2ab7-4f98-f61d-8810d417e814"
      },
      "execution_count": null,
      "outputs": [
        {
          "output_type": "stream",
          "name": "stderr",
          "text": [
            "/usr/local/lib/python3.7/dist-packages/numpy/core/fromnumeric.py:3724: RuntimeWarning: Degrees of freedom <= 0 for slice\n",
            "  **kwargs)\n"
          ]
        },
        {
          "output_type": "error",
          "ename": "ZeroDivisionError",
          "evalue": "ignored",
          "traceback": [
            "\u001b[0;31m---------------------------------------------------------------------------\u001b[0m",
            "\u001b[0;31mZeroDivisionError\u001b[0m                         Traceback (most recent call last)",
            "\u001b[0;32m<ipython-input-96-9cf5d12325fd>\u001b[0m in \u001b[0;36m<module>\u001b[0;34m()\u001b[0m\n\u001b[1;32m      6\u001b[0m   \u001b[0mx\u001b[0m \u001b[0;34m=\u001b[0m \u001b[0mmp_data\u001b[0m\u001b[0;34m.\u001b[0m\u001b[0mloc\u001b[0m\u001b[0;34m[\u001b[0m\u001b[0mmp_data\u001b[0m\u001b[0;34m[\u001b[0m\u001b[0;34m'Filepath'\u001b[0m\u001b[0;34m]\u001b[0m\u001b[0;34m.\u001b[0m\u001b[0mstr\u001b[0m\u001b[0;34m.\u001b[0m\u001b[0mstartswith\u001b[0m\u001b[0;34m(\u001b[0m\u001b[0mltr\u001b[0m\u001b[0;34m)\u001b[0m \u001b[0;34m&\u001b[0m \u001b[0;34m(\u001b[0m\u001b[0mincludeFlipped\u001b[0m \u001b[0;32mor\u001b[0m \u001b[0mmp_data\u001b[0m\u001b[0;34m[\u001b[0m\u001b[0;34m'Flipped'\u001b[0m\u001b[0;34m]\u001b[0m\u001b[0;34m==\u001b[0m\u001b[0;36m0\u001b[0m\u001b[0;34m)\u001b[0m\u001b[0;34m]\u001b[0m\u001b[0;34m.\u001b[0m\u001b[0mFeatures\u001b[0m\u001b[0;34m\u001b[0m\u001b[0;34m\u001b[0m\u001b[0m\n\u001b[1;32m      7\u001b[0m   \u001b[0mx\u001b[0m \u001b[0;34m=\u001b[0m \u001b[0;34m(\u001b[0m\u001b[0mx\u001b[0m \u001b[0;34m-\u001b[0m \u001b[0mfeat_mn\u001b[0m\u001b[0;34m)\u001b[0m \u001b[0;34m/\u001b[0m \u001b[0;34m(\u001b[0m\u001b[0mfeat_mx\u001b[0m\u001b[0;34m-\u001b[0m\u001b[0mfeat_mn\u001b[0m\u001b[0;34m)\u001b[0m\u001b[0;34m\u001b[0m\u001b[0;34m\u001b[0m\u001b[0m\n\u001b[0;32m----> 8\u001b[0;31m   \u001b[0mvr\u001b[0m \u001b[0;34m=\u001b[0m \u001b[0mnp\u001b[0m\u001b[0;34m.\u001b[0m\u001b[0mvar\u001b[0m\u001b[0;34m(\u001b[0m\u001b[0mx\u001b[0m\u001b[0;34m.\u001b[0m\u001b[0mto_numpy\u001b[0m\u001b[0;34m(\u001b[0m\u001b[0;34m)\u001b[0m\u001b[0;34m,\u001b[0m\u001b[0;36m0\u001b[0m\u001b[0;34m)\u001b[0m\u001b[0;34m\u001b[0m\u001b[0;34m\u001b[0m\u001b[0m\n\u001b[0m\u001b[1;32m      9\u001b[0m   \u001b[0mvr\u001b[0m \u001b[0;34m=\u001b[0m \u001b[0mnp\u001b[0m\u001b[0;34m.\u001b[0m\u001b[0mexpand_dims\u001b[0m\u001b[0;34m(\u001b[0m\u001b[0mvr\u001b[0m\u001b[0;34m.\u001b[0m\u001b[0mflatten\u001b[0m\u001b[0;34m(\u001b[0m\u001b[0;34m)\u001b[0m\u001b[0;34m,\u001b[0m \u001b[0maxis\u001b[0m\u001b[0;34m=\u001b[0m\u001b[0;36m0\u001b[0m\u001b[0;34m)\u001b[0m\u001b[0;34m\u001b[0m\u001b[0;34m\u001b[0m\u001b[0m\n\u001b[1;32m     10\u001b[0m   \u001b[0mall_vr\u001b[0m \u001b[0;34m=\u001b[0m \u001b[0mnp\u001b[0m\u001b[0;34m.\u001b[0m\u001b[0mappend\u001b[0m\u001b[0;34m(\u001b[0m\u001b[0mall_vr\u001b[0m\u001b[0;34m,\u001b[0m\u001b[0mvr\u001b[0m\u001b[0;34m,\u001b[0m\u001b[0maxis\u001b[0m\u001b[0;34m=\u001b[0m\u001b[0;36m0\u001b[0m\u001b[0;34m)\u001b[0m\u001b[0;34m\u001b[0m\u001b[0;34m\u001b[0m\u001b[0m\n",
            "\u001b[0;32m<__array_function__ internals>\u001b[0m in \u001b[0;36mvar\u001b[0;34m(*args, **kwargs)\u001b[0m\n",
            "\u001b[0;32m/usr/local/lib/python3.7/dist-packages/numpy/core/fromnumeric.py\u001b[0m in \u001b[0;36mvar\u001b[0;34m(a, axis, dtype, out, ddof, keepdims, where)\u001b[0m\n\u001b[1;32m   3722\u001b[0m \u001b[0;34m\u001b[0m\u001b[0m\n\u001b[1;32m   3723\u001b[0m     return _methods._var(a, axis=axis, dtype=dtype, out=out, ddof=ddof,\n\u001b[0;32m-> 3724\u001b[0;31m                          **kwargs)\n\u001b[0m\u001b[1;32m   3725\u001b[0m \u001b[0;34m\u001b[0m\u001b[0m\n\u001b[1;32m   3726\u001b[0m \u001b[0;34m\u001b[0m\u001b[0m\n",
            "\u001b[0;32m/usr/local/lib/python3.7/dist-packages/numpy/core/_methods.py\u001b[0m in \u001b[0;36m_var\u001b[0;34m(a, axis, dtype, out, ddof, keepdims, where)\u001b[0m\n\u001b[1;32m    221\u001b[0m     \u001b[0;32mif\u001b[0m \u001b[0misinstance\u001b[0m\u001b[0;34m(\u001b[0m\u001b[0marrmean\u001b[0m\u001b[0;34m,\u001b[0m \u001b[0mmu\u001b[0m\u001b[0;34m.\u001b[0m\u001b[0mndarray\u001b[0m\u001b[0;34m)\u001b[0m\u001b[0;34m:\u001b[0m\u001b[0;34m\u001b[0m\u001b[0;34m\u001b[0m\u001b[0m\n\u001b[1;32m    222\u001b[0m         arrmean = um.true_divide(arrmean, div, out=arrmean, casting='unsafe',\n\u001b[0;32m--> 223\u001b[0;31m                                  subok=False)\n\u001b[0m\u001b[1;32m    224\u001b[0m     \u001b[0;32melse\u001b[0m\u001b[0;34m:\u001b[0m\u001b[0;34m\u001b[0m\u001b[0;34m\u001b[0m\u001b[0m\n\u001b[1;32m    225\u001b[0m         \u001b[0marrmean\u001b[0m \u001b[0;34m=\u001b[0m \u001b[0marrmean\u001b[0m\u001b[0;34m.\u001b[0m\u001b[0mdtype\u001b[0m\u001b[0;34m.\u001b[0m\u001b[0mtype\u001b[0m\u001b[0;34m(\u001b[0m\u001b[0marrmean\u001b[0m \u001b[0;34m/\u001b[0m \u001b[0mrcount\u001b[0m\u001b[0;34m)\u001b[0m\u001b[0;34m\u001b[0m\u001b[0;34m\u001b[0m\u001b[0m\n",
            "\u001b[0;31mZeroDivisionError\u001b[0m: division by zero"
          ]
        }
      ]
    },
    {
      "cell_type": "code",
      "source": [
        "# To see the tolerance to the Flipped Images\n",
        "# To calculate Feature Discernibility\n",
        "all_vr = np.zeros((0,feat_size[feat_index]),np.float32)\n",
        "\n",
        "# considering 21 letters only - for some reason mediapipe contains 21, inception 24 letters\n",
        "for ltr in letters[:21]: \n",
        "  # flipped\n",
        "  x_f = mp_data.loc[mp_data['Filepath'].str.startswith(ltr) & mp_data['Flipped']==1].sort_values('Filepath')\n",
        "  # original - shall correspond to the flipped (not all originals have flipped versions)\n",
        "  x_o = mp_data[(mp_data['Filepath'].isin(list(x_f.Filepath))) & (mp_data['Flipped']==0)].sort_values('Filepath')\n",
        "\n",
        "  x = np.abs(x_o.Features.to_numpy() - x_f.Features.to_numpy())\n",
        "  x = (x - feat_mn) / (feat_mx-feat_mn)\n",
        "  vr = np.var(x,0)\n",
        "  vr = np.expand_dims(vr.flatten(), axis=0)\n",
        "  all_vr = np.append(all_vr,vr,axis=0)\n",
        "\n",
        "# If a 2D array, a boxplot is drawn for each column \n",
        "# showfliers - to show or hide outliers\n",
        "plt.boxplot(all_vr.transpose(), showfliers = False); # ; is used to eliminate verbose"
      ],
      "metadata": {
        "id": "AjfopjfcwjVs"
      },
      "execution_count": null,
      "outputs": []
    }
  ]
}